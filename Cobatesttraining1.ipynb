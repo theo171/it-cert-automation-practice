{
  "nbformat": 4,
  "nbformat_minor": 0,
  "metadata": {
    "colab": {
      "provenance": [],
      "authorship_tag": "ABX9TyNQGh2Uu3l5Zpb2KLiZA2Wn",
      "include_colab_link": true
    },
    "kernelspec": {
      "name": "python3",
      "display_name": "Python 3"
    },
    "language_info": {
      "name": "python"
    }
  },
  "cells": [
    {
      "cell_type": "markdown",
      "metadata": {
        "id": "view-in-github",
        "colab_type": "text"
      },
      "source": [
        "<a href=\"https://colab.research.google.com/github/theo171/it-cert-automation-practice/blob/master/Cobatesttraining1.ipynb\" target=\"_parent\"><img src=\"https://colab.research.google.com/assets/colab-badge.svg\" alt=\"Open In Colab\"/></a>"
      ]
    },
    {
      "cell_type": "code",
      "source": [
        "! chmod 600 /content/kaggle.json\n",
        "# mengunci akses kaggle 6 = 4 + 2, 0 0 untuk mengunci orang lain agar tidak masuk"
      ],
      "metadata": {
        "id": "xmKYV22wZuFz"
      },
      "execution_count": null,
      "outputs": []
    },
    {
      "cell_type": "code",
      "source": [
        "! KAGGLE_CONFIG_DIR=/content/ kaggle  datasets download -d utkarshsaxenadn/fast-food-classification-dataset\n",
        "# untuk memasukkan/ mendownload kaggle pake API Token"
      ],
      "metadata": {
        "colab": {
          "base_uri": "https://localhost:8080/"
        },
        "id": "8RXT-Di5b73V",
        "outputId": "59b320f3-a4b2-480e-9f2b-c5b121b10b24"
      },
      "execution_count": null,
      "outputs": [
        {
          "output_type": "stream",
          "name": "stdout",
          "text": [
            "Downloading fast-food-classification-dataset.zip to /content\n",
            "100% 820M/821M [00:07<00:00, 181MB/s]\n",
            "100% 821M/821M [00:07<00:00, 116MB/s]\n"
          ]
        }
      ]
    },
    {
      "cell_type": "markdown",
      "source": [
        "kaggle config view"
      ],
      "metadata": {
        "id": "iwyQVcVLc7pT"
      }
    },
    {
      "cell_type": "code",
      "source": [
        "import zipfile\n",
        "zip_file = zipfile.ZipFile('/content/fast-food-classification-dataset.zip')\n",
        "zip_file.extractall('/tmp/')\n",
        "# pindah dan ekstrak zipfile dan masukkan ke temporary"
      ],
      "metadata": {
        "id": "_ZeCem33c8wJ"
      },
      "execution_count": null,
      "outputs": []
    },
    {
      "cell_type": "code",
      "source": [
        "# mengimport data generator\n",
        "from tensorflow.keras.preprocessing.image import ImageDataGenerator"
      ],
      "metadata": {
        "id": "VkJdWlpjoij2"
      },
      "execution_count": null,
      "outputs": []
    },
    {
      "cell_type": "code",
      "source": [
        "# membuat training generator datanya menajdi nol hingga 1\n",
        "train_generator = ImageDataGenerator(rescale= 1/255,\n",
        "                                     horizontal_flip = True,\n",
        "                                     vertical_flip= True,\n",
        "                                     rotation_range=60,\n",
        "                                     zoom_range=0.3,\n",
        "                                     fill_mode='nearest')"
      ],
      "metadata": {
        "id": "3AhIl_vSp3bT"
      },
      "execution_count": null,
      "outputs": []
    },
    {
      "cell_type": "code",
      "source": [
        "# membuat training data\n",
        "train_data = train_generator.flow_from_directory('/tmp/Fast Food Classification V2/Train',\n",
        "                             target_size=(224, 224), # di resize dan data asli tidak diubahmenuyeragamkan ukuran gambar\n",
        "                             batch_size=105, # jumlah data yang akan di proses\n",
        "                              class_mode='categorical', ) # class pada dataset"
      ],
      "metadata": {
        "colab": {
          "base_uri": "https://localhost:8080/"
        },
        "id": "6Fue6mLjsKfu",
        "outputId": "eef511ca-0c25-47f1-c0f7-2b87ff11f9e4"
      },
      "execution_count": null,
      "outputs": [
        {
          "output_type": "stream",
          "name": "stdout",
          "text": [
            "Found 15000 images belonging to 10 classes.\n"
          ]
        }
      ]
    },
    {
      "cell_type": "code",
      "source": [
        "# menyiapkan data validasi\n",
        "val_generator = ImageDataGenerator(rescale= 1/255)\n",
        "\n",
        "val_data = val_generator.flow_from_directory('/tmp/Fast Food Classification V2/Test',\n",
        "                                             target_size=(224, 224), # di resize dan data asli tidak diubahmenuyeragamkan ukuran gambar\n",
        "                                             class_mode='categorical',\n",
        "                                             batch_size=30 # jumlah data yang akan di proses\n",
        "                                            )"
      ],
      "metadata": {
        "colab": {
          "base_uri": "https://localhost:8080/"
        },
        "id": "yUabHzvVvlRd",
        "outputId": "b2f8a2a2-bd3f-44c7-c7c9-416d23528f27"
      },
      "execution_count": null,
      "outputs": [
        {
          "output_type": "stream",
          "name": "stdout",
          "text": [
            "Found 1500 images belonging to 10 classes.\n"
          ]
        }
      ]
    },
    {
      "cell_type": "code",
      "source": [
        "#Mengonstruksi Model\n",
        "from tensorflow.keras.models import Sequential\n",
        "from tensorflow.keras.layers import Conv2D, MaxPooling2D, Flatten, Dense, Dropout\n",
        "from tensorflow.keras.optimizers import SGD\n",
        "\n",
        "model = Sequential([\n",
        "    Conv2D(16, (3,3), activation='relu', input_shape=(224,224,3)),\n",
        "    MaxPooling2D(2,2),\n",
        "    Conv2D(32, (3,3), activation='relu'),\n",
        "    MaxPooling2D(3,3),\n",
        "    Flatten(),\n",
        "    Dense(128, activation='relu'),\n",
        "    Dropout(0.5),  # Tambahkan layer Dropout dengan tingkat dropout 0.5\n",
        "    Dense(128, activation='relu'),\n",
        "    Dropout(0.5),  # Tambahkan layer Dropout dengan tingkat dropout 0.5\n",
        "    Dense(10, activation='relu'),\n",
        "])\n",
        "\n",
        "# Definisikan optimizer dengan *learning rate* yang diinginkan\n",
        "learning_rate = 0.001  # Ganti dengan nilai *learning rate* yang sesuai\n",
        "sgd_optimizer = SGD(learning_rate=learning_rate)"
      ],
      "metadata": {
        "id": "GFHyE-sjxBo7"
      },
      "execution_count": null,
      "outputs": []
    },
    {
      "cell_type": "code",
      "source": [
        "#Mengkompile modelnya\n",
        "model.compile(optimizer=sgd_optimizer, loss='categorical_crossentropy', metrics=['accuracy'])"
      ],
      "metadata": {
        "id": "U4gTDn0Oyo9y"
      },
      "execution_count": null,
      "outputs": []
    },
    {
      "cell_type": "code",
      "source": [
        "# Training Model\n",
        "history  = model.fit(train_data,\n",
        "                     steps_per_epoch=10,\n",
        "                     epochs=50,\n",
        "                     validation_data=val_data,\n",
        "                     validation_steps=10,\n",
        "                     verbose=2)"
      ],
      "metadata": {
        "colab": {
          "base_uri": "https://localhost:8080/"
        },
        "id": "-v5gt9LpzDZy",
        "outputId": "b0fce647-efb8-4fb6-a56a-6d4d28a5aeba"
      },
      "execution_count": null,
      "outputs": [
        {
          "output_type": "stream",
          "name": "stdout",
          "text": [
            "Epoch 1/50\n",
            "10/10 - 34s - loss: 3.6555 - accuracy: 0.0933 - val_loss: 4.1961 - val_accuracy: 0.0567 - 34s/epoch - 3s/step\n",
            "Epoch 2/50\n",
            "10/10 - 34s - loss: 3.5787 - accuracy: 0.1019 - val_loss: 3.7738 - val_accuracy: 0.0700 - 34s/epoch - 3s/step\n",
            "Epoch 3/50\n"
          ]
        }
      ]
    }
  ]
}